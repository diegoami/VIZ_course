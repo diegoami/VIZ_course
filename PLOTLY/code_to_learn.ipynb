{
 "cells": [
  {
   "cell_type": "markdown",
   "metadata": {
    "slideshow": {
     "slide_type": "slide"
    }
   },
   "source": [
    "# [plotly](https://plot.ly/feed/)"
   ]
  },
  {
   "cell_type": "markdown",
   "metadata": {},
   "source": [
    "## Line and Scatter plots"
   ]
  },
  {
   "cell_type": "markdown",
   "metadata": {
    "slideshow": {
     "slide_type": "subslide"
    }
   },
   "source": [
    "Example for Figure, Data and Layout Object  "
   ]
  },
  {
   "cell_type": "code",
   "execution_count": 4,
   "metadata": {
    "ExecuteTime": {
     "end_time": "2017-11-14T21:29:26.615146",
     "start_time": "2017-11-14T21:29:24.291462"
    },
    "collapsed": true
   },
   "outputs": [],
   "source": [
    "import plotly as py"
   ]
  },
  {
   "cell_type": "code",
   "execution_count": 5,
   "metadata": {
    "ExecuteTime": {
     "end_time": "2017-11-14T21:29:26.621586",
     "start_time": "2017-11-14T21:29:26.617072"
    }
   },
   "outputs": [
    {
     "data": {
      "text/html": [
       "<script>requirejs.config({paths: { 'plotly': ['https://cdn.plot.ly/plotly-latest.min']},});if(!window.Plotly) {{require(['plotly'],function(plotly) {window.Plotly=plotly;});}}</script>"
      ],
      "text/vnd.plotly.v1+html": [
       "<script>requirejs.config({paths: { 'plotly': ['https://cdn.plot.ly/plotly-latest.min']},});if(!window.Plotly) {{require(['plotly'],function(plotly) {window.Plotly=plotly;});}}</script>"
      ]
     },
     "metadata": {},
     "output_type": "display_data"
    }
   ],
   "source": [
    "# offline mode - enables standalone HTML in the notebook\n",
    "py.offline.init_notebook_mode(connected=True)"
   ]
  },
  {
   "cell_type": "code",
   "execution_count": 6,
   "metadata": {
    "ExecuteTime": {
     "end_time": "2017-11-14T21:29:26.636579",
     "start_time": "2017-11-14T21:29:26.624658"
    },
    "collapsed": true
   },
   "outputs": [],
   "source": [
    "# Make data and layout objects\n",
    "import plotly.graph_objs as go\n",
    "\n",
    "trace1 = go.Scatter(   # Initialize the scatter trace object                         \n",
    "        x=[1, 2, 3],    # Reference between trace's x coord. and x axis\n",
    "        y=[3, 1, 6],    # Reference between trace's y coord. and y axis\n",
    "        mode='markers') # Mode of the scatter trace object (lines, text)\n",
    "\n",
    "trace2 = go.Scatter(   # Initialze a second scatter trace object\n",
    "        x=[1, 2, 3],\n",
    "        y=[2, 4, 5])    \n",
    "\n",
    "data = [trace1, trace2] # Create data list-like object of 2 traces\n",
    " \n",
    "layout = go.Layout(title='Some Experiment') # Set the figures title"
   ]
  },
  {
   "cell_type": "code",
   "execution_count": 7,
   "metadata": {
    "ExecuteTime": {
     "end_time": "2017-11-14T21:29:29.290350",
     "start_time": "2017-11-14T21:29:29.286082"
    },
    "collapsed": true
   },
   "outputs": [],
   "source": [
    "# Make Figure object\n",
    "fig = go.Figure(data=data, layout=layout) "
   ]
  },
  {
   "cell_type": "code",
   "execution_count": 8,
   "metadata": {
    "ExecuteTime": {
     "end_time": "2017-11-14T21:29:30.433103",
     "start_time": "2017-11-14T21:29:30.426564"
    }
   },
   "outputs": [
    {
     "data": {
      "application/vnd.plotly.v1+json": {
       "data": [
        {
         "mode": "markers",
         "type": "scatter",
         "x": [
          1,
          2,
          3
         ],
         "y": [
          3,
          1,
          6
         ]
        },
        {
         "type": "scatter",
         "x": [
          1,
          2,
          3
         ],
         "y": [
          2,
          4,
          5
         ]
        }
       ],
       "layout": {
        "title": "Some Experiment"
       }
      },
      "text/html": [
       "<div id=\"b1c7c304-04a8-4d7e-8b65-3379601d2dac\" style=\"height: 525px; width: 100%;\" class=\"plotly-graph-div\"></div><script type=\"text/javascript\">require([\"plotly\"], function(Plotly) { window.PLOTLYENV=window.PLOTLYENV || {};window.PLOTLYENV.BASE_URL=\"https://plot.ly\";Plotly.newPlot(\"b1c7c304-04a8-4d7e-8b65-3379601d2dac\", [{\"type\": \"scatter\", \"x\": [1, 2, 3], \"y\": [3, 1, 6], \"mode\": \"markers\"}, {\"type\": \"scatter\", \"x\": [1, 2, 3], \"y\": [2, 4, 5]}], {\"title\": \"Some Experiment\"}, {\"showLink\": true, \"linkText\": \"Export to plot.ly\"})});</script>"
      ],
      "text/vnd.plotly.v1+html": [
       "<div id=\"b1c7c304-04a8-4d7e-8b65-3379601d2dac\" style=\"height: 525px; width: 100%;\" class=\"plotly-graph-div\"></div><script type=\"text/javascript\">require([\"plotly\"], function(Plotly) { window.PLOTLYENV=window.PLOTLYENV || {};window.PLOTLYENV.BASE_URL=\"https://plot.ly\";Plotly.newPlot(\"b1c7c304-04a8-4d7e-8b65-3379601d2dac\", [{\"type\": \"scatter\", \"x\": [1, 2, 3], \"y\": [3, 1, 6], \"mode\": \"markers\"}, {\"type\": \"scatter\", \"x\": [1, 2, 3], \"y\": [2, 4, 5]}], {\"title\": \"Some Experiment\"}, {\"showLink\": true, \"linkText\": \"Export to plot.ly\"})});</script>"
      ]
     },
     "metadata": {},
     "output_type": "display_data"
    }
   ],
   "source": [
    "#open a plot inside notebook\n",
    "py.offline.iplot(fig)"
   ]
  },
  {
   "cell_type": "code",
   "execution_count": 9,
   "metadata": {
    "ExecuteTime": {
     "end_time": "2017-07-08T22:27:55.472359",
     "start_time": "2017-07-08T22:27:55.208931"
    }
   },
   "outputs": [
    {
     "data": {
      "text/plain": [
       "'file:///home/diego/PycharmProjects/external/VIZ_course/PLOTLY/first_plot.html'"
      ]
     },
     "execution_count": 9,
     "metadata": {},
     "output_type": "execute_result"
    }
   ],
   "source": [
    "# create HTML and open in browser, store HTML\n",
    "py.offline.plot(fig, filename='first_plot.html') "
   ]
  },
  {
   "cell_type": "markdown",
   "metadata": {
    "ExecuteTime": {
     "end_time": "2016-10-02T15:22:29.525960",
     "start_time": "2016-10-02T15:22:29.523763"
    }
   },
   "source": [
    "**Online mode**"
   ]
  },
  {
   "cell_type": "markdown",
   "metadata": {
    "collapsed": true
   },
   "source": [
    "It is possible to host your graphs online through plotly.com"
   ]
  },
  {
   "cell_type": "code",
   "execution_count": null,
   "metadata": {
    "ExecuteTime": {
     "end_time": "2017-07-08T22:14:02.760973",
     "start_time": "2017-07-08T22:13:59.353073"
    }
   },
   "outputs": [],
   "source": [
    "import plotly.tools as tls\n",
    "\n",
    "# Get credentials from signin in to Plotly or use the dsr_plotly-account\n",
    "# Username: dsr_plotly passw: 12345 (API calls and views limited)\n",
    "tls.set_credentials_file(username=\"dsr_plotly\", api_key=\"kdaos95jui\") \n",
    "\n",
    "# We are sending the plot to plotly with the following command\n",
    "py.plotly.plot(fig, filename='first_plot', sharing='public') \n",
    "\n",
    "tls.embed('https://plot.ly/~dsr_plotly/6')"
   ]
  },
  {
   "cell_type": "markdown",
   "metadata": {
    "slideshow": {
     "slide_type": "subslide"
    }
   },
   "source": [
    "[Plot here](https://plot.ly/~dsr_plotly/6/fig-03-some-experiment/)"
   ]
  },
  {
   "cell_type": "markdown",
   "metadata": {
    "slideshow": {
     "slide_type": "subslide"
    }
   },
   "source": [
    "**Axis title** [*Exercise*]: Take the plot from before and change the title of the x-axis to *Some independent variable* and the title of the y-axis to *Some dependent variable*.   \n",
    "Hint: Change the layout-object by adding ```xaxis = dict(title = 'title name')```"
   ]
  },
  {
   "cell_type": "markdown",
   "metadata": {
    "slideshow": {
     "slide_type": "subslide"
    }
   },
   "source": [
    "<font color='red'>Double click to see the solution</font>\n",
    "<code style='display:none'>\n",
    "\n",
    "-- SOLUTION --\n",
    "\n",
    "layout = go.Layout(\n",
    "    title='Some Experiment',\n",
    "    xaxis = dict(title = 'Some independent variable'),\n",
    "    yaxis = dict(title = 'Some dependent variable')\n",
    "    )\n",
    "\n",
    "fig = go.Figure(data=data, layout=layout)\n",
    "\n",
    "py.offline.iplot(fig)\n",
    "\n",
    "</code>"
   ]
  },
  {
   "cell_type": "markdown",
   "metadata": {},
   "source": [
    "**Line dash**"
   ]
  },
  {
   "cell_type": "code",
   "execution_count": null,
   "metadata": {
    "ExecuteTime": {
     "end_time": "2017-07-08T22:28:42.975575",
     "start_time": "2017-07-08T22:28:42.949177"
    },
    "collapsed": true
   },
   "outputs": [],
   "source": [
    "# Add data\n",
    "month = ['Jan','Feb','Mar','Apr','May','Jun','Jul','Aug','Sep','Oct','Nov','Dec']\n",
    "high_2000 = [32.5,37.6,49.9,53.0,69.1,75.4,76.5,76.6,70.7,60.6,45.1,29.3]\n",
    "low_2000 = [13.8,22.3,32.5,37.2,49.9,56.1,57.7,58.3,51.2,42.8,31.6,15.9]\n",
    "high_2007 = [36.5,26.6,43.6,52.3,71.5,81.4,80.5,82.2,76.0,67.3,46.1,35.0]\n",
    "low_2007 = [23.6,14.0,27.0,36.8,47.6,57.7,58.9,61.2,53.3,48.5,31.0,23.6]\n",
    "name = ['High 2007','Low 2007','High 2000','Low 2000']\n",
    "color = ['rgb(205,12,24)','rgb(22,96,167)','rgb(205,12,24)','rgb(22,96,167)']\n",
    "\n",
    "# Create and style traces\n",
    "trace0 = go.Scatter(x = month,y = high_2007, name = name[0],\n",
    "    line = dict(color = (color[0]), width = 4))\n",
    "trace1 = go.Scatter(x = month,y = low_2007, name = name[1],\n",
    "    line = dict(color = (color[1]), width = 4))\n",
    "trace2 = go.Scatter(x = month,y = high_2000, name = name[2],\n",
    "    line = dict(color = (color[2]), width = 4,dash = 'dash'))\n",
    "trace3 = go.Scatter(x = month,y = low_2000, name = name[3],\n",
    "    line = dict(color = (color[3]), width = 4,dash = 'dash'))\n",
    "data = [trace0, trace1, trace2, trace3]\n",
    "\n",
    "# Edit the layout\n",
    "layout = go.Layout(title = 'Average High and Low Temperatures in New York',\n",
    "              xaxis = dict(title = 'Temperature (degrees F)'),\n",
    "              yaxis = dict(title = 'Month'))\n",
    "\n",
    "fig = go.Figure(data=data, layout=layout)"
   ]
  },
  {
   "cell_type": "code",
   "execution_count": null,
   "metadata": {
    "ExecuteTime": {
     "end_time": "2017-07-08T22:28:44.290541",
     "start_time": "2017-07-08T22:28:44.281798"
    }
   },
   "outputs": [],
   "source": [
    "py.offline.iplot(fig)"
   ]
  },
  {
   "cell_type": "markdown",
   "metadata": {},
   "source": [
    "**Marker style and legends**"
   ]
  },
  {
   "cell_type": "code",
   "execution_count": null,
   "metadata": {
    "ExecuteTime": {
     "end_time": "2017-07-08T22:28:54.232457",
     "start_time": "2017-07-08T22:28:54.222837"
    },
    "collapsed": true
   },
   "outputs": [],
   "source": [
    "trace0 = go.Scatter(\n",
    "    x=[1, 2, 3, 4],\n",
    "    y=[10, 11, 12, 13],\n",
    "    mode='markers',\n",
    "    marker=dict(\n",
    "        colorscale='Viridis',\n",
    "        color=[1, 2, 3, 10],\n",
    "        opacity=[1, 0.8, 0.6, 0.4],\n",
    "        size=[40, 60, 80, 100],\n",
    "        showscale=True\n",
    "    )\n",
    ")\n",
    "\n",
    "data = [trace0]\n",
    "\n",
    "layout = go.Layout(\n",
    "    showlegend=False,\n",
    "    height=600,\n",
    "    width=600,\n",
    ")\n",
    "\n",
    "fig = go.Figure(data=data, layout=layout)"
   ]
  },
  {
   "cell_type": "code",
   "execution_count": null,
   "metadata": {
    "ExecuteTime": {
     "end_time": "2017-07-08T22:28:55.604613",
     "start_time": "2017-07-08T22:28:55.598680"
    }
   },
   "outputs": [],
   "source": [
    "py.offline.iplot(fig)"
   ]
  },
  {
   "cell_type": "markdown",
   "metadata": {},
   "source": [
    "**Hover text**"
   ]
  },
  {
   "cell_type": "code",
   "execution_count": null,
   "metadata": {
    "ExecuteTime": {
     "end_time": "2017-07-08T22:29:05.241291",
     "start_time": "2017-07-08T22:29:05.226325"
    },
    "collapsed": true
   },
   "outputs": [],
   "source": [
    "data=[\n",
    "    go.Scatter(\n",
    "        x=[1, 2, 3, 4],\n",
    "        y=[10, 11, 12, 13],\n",
    "        text=['size: 40', 'size: 60', 'size: 80', 'size: 100'],\n",
    "        mode='markers',\n",
    "        marker=dict(\n",
    "            colorscale='Viridis',\n",
    "            color= [120, 125, 130, 135, 140],\n",
    "            opacity=[1, 0.8, 0.6, 0.4],\n",
    "            size=[40, 60, 80, 100],\n",
    "            showscale=True\n",
    "        )\n",
    "    )\n",
    "]\n",
    "\n",
    "layout = go.Layout(\n",
    "    showlegend=False,\n",
    "    height=600,\n",
    "    width=600,\n",
    ")\n",
    "\n",
    "fig = go.Figure(data=data, layout=layout)"
   ]
  },
  {
   "cell_type": "code",
   "execution_count": null,
   "metadata": {
    "ExecuteTime": {
     "end_time": "2017-07-08T22:29:06.069757",
     "start_time": "2017-07-08T22:29:06.063312"
    }
   },
   "outputs": [],
   "source": [
    "py.offline.iplot(fig)"
   ]
  },
  {
   "cell_type": "markdown",
   "metadata": {
    "slideshow": {
     "slide_type": "subslide"
    }
   },
   "source": [
    "## Bar Charts"
   ]
  },
  {
   "cell_type": "code",
   "execution_count": null,
   "metadata": {
    "ExecuteTime": {
     "end_time": "2017-07-08T22:29:12.821045",
     "start_time": "2017-07-08T22:29:12.815272"
    },
    "collapsed": true
   },
   "outputs": [],
   "source": [
    "trace1 = go.Bar(\n",
    "    x=['giraffes', 'orangutans', 'monkeys'],\n",
    "    y=[20, 14, 23],\n",
    "    name='SF Zoo'\n",
    ")\n",
    "\n",
    "data = [trace1]\n",
    "\n",
    "fig = go.Figure(data=data, layout=layout)"
   ]
  },
  {
   "cell_type": "code",
   "execution_count": null,
   "metadata": {
    "ExecuteTime": {
     "end_time": "2017-07-08T22:29:21.359817",
     "start_time": "2017-07-08T22:29:21.354009"
    }
   },
   "outputs": [],
   "source": [
    "py.offline.iplot(fig)"
   ]
  },
  {
   "cell_type": "markdown",
   "metadata": {
    "slideshow": {
     "slide_type": "subslide"
    }
   },
   "source": [
    "**Grouped bar chart** [*Exercise*]: Take the barchart from before:\n",
    "1. Add a second ```trace2``` with the following attributes \n",
    "```python\n",
    "x=['giraffes', 'orangutans', 'monkeys'],\n",
    "y=[12, 18, 29],\n",
    "name='LA Zoo'\n",
    "```\n",
    "2. Add both traces to the list-like data object\n",
    "3. Create a grouped barchart by manipulating the layout graph-object using\n",
    "```python\n",
    "barmode='group'\n",
    "```"
   ]
  },
  {
   "cell_type": "markdown",
   "metadata": {
    "ExecuteTime": {
     "end_time": "2017-07-08T20:45:10.436735",
     "start_time": "2017-07-08T20:45:10.429775"
    },
    "slideshow": {
     "slide_type": "subslide"
    }
   },
   "source": [
    "<font color='red'>Double click to see the solution</font>\n",
    "<code style='display:none'>\n",
    "\n",
    "-- SOLUTION --\n",
    "\n",
    "trace2 = go.Bar(\n",
    "    x=['giraffes', 'orangutans', 'monkeys'],\n",
    "    y=[12, 18, 29],\n",
    "    name='LA Zoo'\n",
    ")\n",
    "\n",
    "data = [trace1, trace2]\n",
    "\n",
    "layout = go.Layout(\n",
    "    barmode='group' #try out stack here\n",
    ")\n",
    "\n",
    "fig = go.Figure(data=data, layout=layout)\n",
    "\n",
    "py.offline.iplot(fig)\n",
    "\n",
    "</code>"
   ]
  },
  {
   "cell_type": "markdown",
   "metadata": {
    "collapsed": true,
    "slideshow": {
     "slide_type": "subslide"
    }
   },
   "source": [
    "**Hover Text in Barchart** [*Exercise*]: Take the grouped barchart from before:\n",
    "1. Add a hover text containing the animal names to both traces using\n",
    "```python\n",
    "text=['giraffes', 'orangutans', 'monkeys'],\n",
    "```\n",
    "2. Change the paper background color and chart color to ```rgb(233,233,233)``` using\n",
    "```python\n",
    "paper_bgcolor='rgb(233,233,233)',\n",
    "plot_bgcolor='rgb(233,233,233)'\n",
    "```\n",
    "Think about which graph object should have the attribute background color!"
   ]
  },
  {
   "cell_type": "markdown",
   "metadata": {
    "slideshow": {
     "slide_type": "subslide"
    }
   },
   "source": [
    "<font color='red'>Double click to see the solution</font>\n",
    "<code style='display:none'>\n",
    "\n",
    "-- SOLUTION --\n",
    "\n",
    "trace1 = go.Bar(\n",
    "    x=['giraffes', 'orangutans', 'monkeys'],\n",
    "    y=[20, 14, 23],\n",
    "    name='SF Zoo',\n",
    "    text=['giraffes', 'orangutans', 'monkeys']\n",
    ")\n",
    "\n",
    "trace2 = go.Bar(\n",
    "    x=['giraffes', 'orangutans', 'monkeys'],\n",
    "    y=[12, 18, 29],\n",
    "    name='LA Zoo',\n",
    "    text=['giraffes', 'orangutans', 'monkeys']\n",
    ")\n",
    "\n",
    "data = [trace1, trace2]\n",
    "\n",
    "layout = go.Layout(\n",
    "    barmode='group', #try out stack here\n",
    "    paper_bgcolor='rgb(233,233,233)',\n",
    "    plot_bgcolor='rgb(233,233,233)'\n",
    ")\n",
    "\n",
    "fig = go.Figure(data=data, layout=layout)\n",
    "\n",
    "py.offline.iplot(fig)\n",
    "\n",
    "</code>"
   ]
  },
  {
   "cell_type": "markdown",
   "metadata": {
    "slideshow": {
     "slide_type": "skip"
    }
   },
   "source": [
    "## Cufflinks: *bind plotly directly to pandas dataframes*"
   ]
  },
  {
   "cell_type": "markdown",
   "metadata": {},
   "source": [
    "Requires the installation of another free library from Plotly:\n",
    "\n",
    "`pip install cufflinks`"
   ]
  },
  {
   "cell_type": "code",
   "execution_count": null,
   "metadata": {
    "ExecuteTime": {
     "end_time": "2017-07-08T23:10:24.689339",
     "start_time": "2017-07-08T23:10:24.684129"
    },
    "collapsed": true
   },
   "outputs": [],
   "source": [
    "import numpy as np"
   ]
  },
  {
   "cell_type": "code",
   "execution_count": null,
   "metadata": {
    "ExecuteTime": {
     "end_time": "2017-07-08T23:10:25.201694",
     "start_time": "2017-07-08T23:10:25.157286"
    }
   },
   "outputs": [],
   "source": [
    "# After importing, new methods are available for pandas dataframes\n",
    "import cufflinks as cf"
   ]
  },
  {
   "cell_type": "code",
   "execution_count": null,
   "metadata": {
    "ExecuteTime": {
     "end_time": "2017-07-08T23:10:25.717884",
     "start_time": "2017-07-08T23:10:25.632629"
    }
   },
   "outputs": [],
   "source": [
    "# Configure it to work offline (plots are not sent to plotly.com)\n",
    "cf.go_offline()"
   ]
  },
  {
   "cell_type": "code",
   "execution_count": null,
   "metadata": {
    "ExecuteTime": {
     "end_time": "2017-07-08T23:10:48.695750",
     "start_time": "2017-07-08T23:10:48.687028"
    }
   },
   "outputs": [],
   "source": [
    "# A random dataframe as example\n",
    "df = pd.DataFrame({'Column A':np.random.rand(5), 'Column B':np.random.rand(5)})"
   ]
  },
  {
   "cell_type": "code",
   "execution_count": null,
   "metadata": {
    "ExecuteTime": {
     "end_time": "2017-07-08T23:10:50.210853",
     "start_time": "2017-07-08T23:10:50.162643"
    },
    "collapsed": true
   },
   "outputs": [],
   "source": [
    "df"
   ]
  },
  {
   "cell_type": "code",
   "execution_count": null,
   "metadata": {
    "ExecuteTime": {
     "end_time": "2017-07-08T23:11:06.734747",
     "start_time": "2017-07-08T23:11:06.691701"
    },
    "collapsed": true
   },
   "outputs": [],
   "source": [
    "# The Plotly plot can be generated with a one liner directly from the dataframe\n",
    "df.iplot(kind='bar', title='A random example', xTitle='index', yTitle='value')"
   ]
  },
  {
   "cell_type": "code",
   "execution_count": null,
   "metadata": {
    "ExecuteTime": {
     "end_time": "2017-01-15T22:51:14.679116",
     "start_time": "2017-01-15T22:51:14.175407"
    },
    "collapsed": true
   },
   "outputs": [],
   "source": [
    "# Export it as standalone HTML converting first to plotly figure\n",
    "fig = df.iplot(kind='bar', title='A random example', xTitle='index', yTitle='value', asFigure=True)\n",
    "\n",
    "# and then using the plotly library\n",
    "py.offline.plot(fig, filename='my_cufflinks_plot.html', include_plotlyjs=True)"
   ]
  },
  {
   "cell_type": "markdown",
   "metadata": {
    "slideshow": {
     "slide_type": "slide"
    }
   },
   "source": [
    "## Simple Buttons and Animations"
   ]
  },
  {
   "cell_type": "code",
   "execution_count": null,
   "metadata": {
    "ExecuteTime": {
     "end_time": "2017-07-08T22:43:17.323776",
     "start_time": "2017-07-08T22:43:17.296534"
    },
    "collapsed": true
   },
   "outputs": [],
   "source": [
    "from IPython.display import display, HTML\n",
    "\n",
    "data = [{'x': [0, 1], 'y': [0, 1]}]\n",
    "\n",
    "layout = go.Layout(xaxis={'range': [0, 5], 'autorange': False},\n",
    "                   yaxis={'range': [0, 5], 'autorange': False},\n",
    "                   title='Start Title',\n",
    "                   updatemenus=[{'type': 'buttons', 'buttons': [{'label': 'Play',\n",
    "                                                 'method': 'animate',\n",
    "                                                 'args': [None]}]}])\n",
    "\n",
    "frames = [{'data': [{'x': [1, 2], 'y': [1, 2]}]},\n",
    "          {'data': [{'x': [1, 4], 'y': [1, 4]}]},\n",
    "          {'data': [{'x': [3, 4], 'y': [3, 4]}],\n",
    "           'layout': {'title': 'End Title'}}]\n",
    "\n",
    "fig = go.Figure(data=data, layout=layout, frames=frames)\n",
    "\n",
    "py.offline.iplot(fig)"
   ]
  },
  {
   "cell_type": "markdown",
   "metadata": {},
   "source": [
    "## Native interactivity with ipywidgets"
   ]
  },
  {
   "cell_type": "code",
   "execution_count": null,
   "metadata": {
    "ExecuteTime": {
     "end_time": "2017-07-08T22:43:37.120537",
     "start_time": "2017-07-08T22:43:37.081519"
    },
    "collapsed": true
   },
   "outputs": [],
   "source": [
    "from ipywidgets import interact\n",
    "\n",
    "def view_image(w):\n",
    "    print(w)\n",
    "    x = np.linspace(0,6)\n",
    "    y = np.sin(w*x)\n",
    "    trace = go.Scatter(x=x,y=y)\n",
    "    fig = go.Figure(data=[trace])\n",
    "    py.offline.iplot(fig)\n",
    "\n",
    "interact(view_image, w=10)"
   ]
  },
  {
   "cell_type": "markdown",
   "metadata": {
    "slideshow": {
     "slide_type": "subslide"
    }
   },
   "source": [
    "## Other Amazing Stuff\n",
    "\n",
    "1. [Streaming Data](https://plot.ly/python/streaming-tutorial/)\n",
    "2. [Connecting Databases](https://plot.ly/python/#databases)\n",
    "3. [Building Reports](https://plot.ly/python/html-reports/)\n",
    "4. [Plotly Dashboards](https://plot.ly/dashboards/)\n",
    "5. [Dash library](https://medium.com/@plotlygraphs/introducing-dash-5ecf7191b503)"
   ]
  }
 ],
 "metadata": {
  "celltoolbar": "Raw Cell Format",
  "kernelspec": {
   "display_name": "Python 3",
   "language": "python",
   "name": "python3"
  },
  "language_info": {
   "codemirror_mode": {
    "name": "ipython",
    "version": 3
   },
   "file_extension": ".py",
   "mimetype": "text/x-python",
   "name": "python",
   "nbconvert_exporter": "python",
   "pygments_lexer": "ipython3",
   "version": "3.6.2"
  },
  "toc": {
   "toc_cell": false,
   "toc_number_sections": true,
   "toc_section_display": "block",
   "toc_threshold": 6,
   "toc_window_display": false
  },
  "toc_position": {
   "height": "323px",
   "left": "760.885px",
   "right": "20px",
   "top": "185px",
   "width": "328px"
  },
  "widgets": {
   "state": {},
   "version": "1.1.2"
  }
 },
 "nbformat": 4,
 "nbformat_minor": 1
}
